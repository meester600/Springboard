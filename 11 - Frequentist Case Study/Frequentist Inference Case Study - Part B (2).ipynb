{
 "cells": [
  {
   "cell_type": "markdown",
   "metadata": {},
   "source": [
    "# Frequentist Inference Case Study - Part B"
   ]
  },
  {
   "cell_type": "markdown",
   "metadata": {},
   "source": [
    "## Learning objectives"
   ]
  },
  {
   "cell_type": "markdown",
   "metadata": {},
   "source": [
    "Welcome to Part B of the Frequentist inference case study! The purpose of this case study is to help you apply the concepts associated with Frequentist inference in Python. In particular, you'll practice writing Python code to apply the following statistical concepts: \n",
    "* the _z_-statistic\n",
    "* the _t_-statistic\n",
    "* the difference and relationship between the two\n",
    "* the Central Limit Theorem, including its assumptions and consequences\n",
    "* how to estimate the population mean and standard deviation from a sample\n",
    "* the concept of a sampling distribution of a test statistic, particularly for the mean\n",
    "* how to combine these concepts to calculate a confidence interval"
   ]
  },
  {
   "cell_type": "markdown",
   "metadata": {},
   "source": [
    "In the previous notebook, we used only data from a known normal distribution. **You'll now tackle real data, rather than simulated data, and answer some relevant real-world business problems using the data.**"
   ]
  },
  {
   "cell_type": "markdown",
   "metadata": {},
   "source": [
    "## Hospital medical charges"
   ]
  },
  {
   "cell_type": "markdown",
   "metadata": {},
   "source": [
    "Imagine that a hospital has hired you as their data scientist. An administrator is working on the hospital's business operations plan and needs you to help them answer some business questions. \n",
    "\n",
    "In this assignment notebook, you're going to use frequentist statistical inference on a data sample to answer the questions:\n",
    "* has the hospital's revenue stream fallen below a key threshold?\n",
    "* are patients with insurance really charged different amounts than those without?\n",
    "\n",
    "Answering that last question with a frequentist approach makes some assumptions, and requires some knowledge, about the two groups."
   ]
  },
  {
   "cell_type": "markdown",
   "metadata": {},
   "source": [
    "We are going to use some data on medical charges obtained from [Kaggle](https://www.kaggle.com/easonlai/sample-insurance-claim-prediction-dataset). \n",
    "\n",
    "For the purposes of this exercise, assume the observations are the result of random sampling from our single hospital. Recall that in the previous assignment, we introduced the Central Limit Theorem (CLT), and its consequence that the distributions of sample statistics approach a normal distribution as $n$ increases. The amazing thing about this is that it applies to the sampling distributions of statistics that have been calculated from even highly non-normal distributions of data! Recall, also, that hypothesis testing is very much based on making inferences about such sample statistics. You're going to rely heavily on the CLT to apply frequentist (parametric) tests to answer the questions in this notebook."
   ]
  },
  {
   "cell_type": "code",
   "execution_count": 1,
   "metadata": {},
   "outputs": [],
   "source": [
    "import pandas as pd\n",
    "import numpy as np\n",
    "import matplotlib.pyplot as plt\n",
    "from scipy.stats import t\n",
    "from scipy.stats import norm\n",
    "from scipy import stats\n",
    "from numpy.random import seed\n",
    "medical = pd.read_csv('/Users/tylermeester/School/11 - Frequentist Case Study/insurance2.csv')"
   ]
  },
  {
   "cell_type": "code",
   "execution_count": 2,
   "metadata": {},
   "outputs": [
    {
     "data": {
      "text/plain": [
       "(1338, 8)"
      ]
     },
     "execution_count": 2,
     "metadata": {},
     "output_type": "execute_result"
    }
   ],
   "source": [
    "medical.shape"
   ]
  },
  {
   "cell_type": "code",
   "execution_count": 3,
   "metadata": {},
   "outputs": [
    {
     "data": {
      "text/html": [
       "<div>\n",
       "<style scoped>\n",
       "    .dataframe tbody tr th:only-of-type {\n",
       "        vertical-align: middle;\n",
       "    }\n",
       "\n",
       "    .dataframe tbody tr th {\n",
       "        vertical-align: top;\n",
       "    }\n",
       "\n",
       "    .dataframe thead th {\n",
       "        text-align: right;\n",
       "    }\n",
       "</style>\n",
       "<table border=\"1\" class=\"dataframe\">\n",
       "  <thead>\n",
       "    <tr style=\"text-align: right;\">\n",
       "      <th></th>\n",
       "      <th>age</th>\n",
       "      <th>sex</th>\n",
       "      <th>bmi</th>\n",
       "      <th>children</th>\n",
       "      <th>smoker</th>\n",
       "      <th>region</th>\n",
       "      <th>charges</th>\n",
       "      <th>insuranceclaim</th>\n",
       "    </tr>\n",
       "  </thead>\n",
       "  <tbody>\n",
       "    <tr>\n",
       "      <th>0</th>\n",
       "      <td>19</td>\n",
       "      <td>0</td>\n",
       "      <td>27.900</td>\n",
       "      <td>0</td>\n",
       "      <td>1</td>\n",
       "      <td>3</td>\n",
       "      <td>16884.92400</td>\n",
       "      <td>1</td>\n",
       "    </tr>\n",
       "    <tr>\n",
       "      <th>1</th>\n",
       "      <td>18</td>\n",
       "      <td>1</td>\n",
       "      <td>33.770</td>\n",
       "      <td>1</td>\n",
       "      <td>0</td>\n",
       "      <td>2</td>\n",
       "      <td>1725.55230</td>\n",
       "      <td>1</td>\n",
       "    </tr>\n",
       "    <tr>\n",
       "      <th>2</th>\n",
       "      <td>28</td>\n",
       "      <td>1</td>\n",
       "      <td>33.000</td>\n",
       "      <td>3</td>\n",
       "      <td>0</td>\n",
       "      <td>2</td>\n",
       "      <td>4449.46200</td>\n",
       "      <td>0</td>\n",
       "    </tr>\n",
       "    <tr>\n",
       "      <th>3</th>\n",
       "      <td>33</td>\n",
       "      <td>1</td>\n",
       "      <td>22.705</td>\n",
       "      <td>0</td>\n",
       "      <td>0</td>\n",
       "      <td>1</td>\n",
       "      <td>21984.47061</td>\n",
       "      <td>0</td>\n",
       "    </tr>\n",
       "    <tr>\n",
       "      <th>4</th>\n",
       "      <td>32</td>\n",
       "      <td>1</td>\n",
       "      <td>28.880</td>\n",
       "      <td>0</td>\n",
       "      <td>0</td>\n",
       "      <td>1</td>\n",
       "      <td>3866.85520</td>\n",
       "      <td>1</td>\n",
       "    </tr>\n",
       "  </tbody>\n",
       "</table>\n",
       "</div>"
      ],
      "text/plain": [
       "   age  sex     bmi  children  smoker  region      charges  insuranceclaim\n",
       "0   19    0  27.900         0       1       3  16884.92400               1\n",
       "1   18    1  33.770         1       0       2   1725.55230               1\n",
       "2   28    1  33.000         3       0       2   4449.46200               0\n",
       "3   33    1  22.705         0       0       1  21984.47061               0\n",
       "4   32    1  28.880         0       0       1   3866.85520               1"
      ]
     },
     "execution_count": 3,
     "metadata": {},
     "output_type": "execute_result"
    }
   ],
   "source": [
    "medical.head()"
   ]
  },
  {
   "cell_type": "code",
   "execution_count": 4,
   "metadata": {},
   "outputs": [],
   "source": [
    "medical_charges = pd.DataFrame(medical.charges)"
   ]
  },
  {
   "cell_type": "markdown",
   "metadata": {},
   "source": [
    "__Q1:__ Plot the histogram of charges and calculate the mean and standard deviation. Comment on the appropriateness of these statistics for the data.\n",
    "\n",
    "__A:__ The mean charge is 13270.422265141257, and the standard error is 12110.011236693994, standard error is used instead of standard deviation because this is a sample of the population that we are trying to describe. Because of this, standard error was calculated with 1 degree of freedom to remove bias. From the histogram we can see that there is not much of a pattern. "
   ]
  },
  {
   "cell_type": "code",
   "execution_count": 5,
   "metadata": {
    "scrolled": true
   },
   "outputs": [
    {
     "data": {
      "text/plain": [
       "array([[<AxesSubplot:title={'center':'charges'}>]], dtype=object)"
      ]
     },
     "execution_count": 5,
     "metadata": {},
     "output_type": "execute_result"
    },
    {
     "data": {
      "image/png": "[encoded data removed]",
      "text/plain": [
       "<Figure size 432x288 with 1 Axes>"
      ]
     },
     "metadata": {
      "needs_background": "light"
     },
     "output_type": "display_data"
    }
   ],
   "source": [
    "medical_charges.hist()"
   ]
  },
  {
   "cell_type": "code",
   "execution_count": 6,
   "metadata": {},
   "outputs": [
    {
     "data": {
      "text/plain": [
       "13270.422265141257"
      ]
     },
     "execution_count": 6,
     "metadata": {},
     "output_type": "execute_result"
    }
   ],
   "source": [
    "charges_mean = medical.charges.mean()\n",
    "charges_mean"
   ]
  },
  {
   "cell_type": "code",
   "execution_count": 7,
   "metadata": {
    "scrolled": true
   },
   "outputs": [
    {
     "data": {
      "text/plain": [
       "12110.011236693994"
      ]
     },
     "execution_count": 7,
     "metadata": {},
     "output_type": "execute_result"
    }
   ],
   "source": [
    "charges_std_error = np.std(medical.charges, ddof = 1)\n",
    "charges_std_error"
   ]
  },
  {
   "cell_type": "code",
   "execution_count": 8,
   "metadata": {},
   "outputs": [
    {
     "data": {
      "text/html": [
       "<div>\n",
       "<style scoped>\n",
       "    .dataframe tbody tr th:only-of-type {\n",
       "        vertical-align: middle;\n",
       "    }\n",
       "\n",
       "    .dataframe tbody tr th {\n",
       "        vertical-align: top;\n",
       "    }\n",
       "\n",
       "    .dataframe thead th {\n",
       "        text-align: right;\n",
       "    }\n",
       "</style>\n",
       "<table border=\"1\" class=\"dataframe\">\n",
       "  <thead>\n",
       "    <tr style=\"text-align: right;\">\n",
       "      <th></th>\n",
       "      <th>charges</th>\n",
       "    </tr>\n",
       "  </thead>\n",
       "  <tbody>\n",
       "    <tr>\n",
       "      <th>count</th>\n",
       "      <td>1338.000000</td>\n",
       "    </tr>\n",
       "    <tr>\n",
       "      <th>mean</th>\n",
       "      <td>13270.422265</td>\n",
       "    </tr>\n",
       "    <tr>\n",
       "      <th>std</th>\n",
       "      <td>12110.011237</td>\n",
       "    </tr>\n",
       "    <tr>\n",
       "      <th>min</th>\n",
       "      <td>1121.873900</td>\n",
       "    </tr>\n",
       "    <tr>\n",
       "      <th>25%</th>\n",
       "      <td>4740.287150</td>\n",
       "    </tr>\n",
       "    <tr>\n",
       "      <th>50%</th>\n",
       "      <td>9382.033000</td>\n",
       "    </tr>\n",
       "    <tr>\n",
       "      <th>75%</th>\n",
       "      <td>16639.912515</td>\n",
       "    </tr>\n",
       "    <tr>\n",
       "      <th>max</th>\n",
       "      <td>63770.428010</td>\n",
       "    </tr>\n",
       "  </tbody>\n",
       "</table>\n",
       "</div>"
      ],
      "text/plain": [
       "            charges\n",
       "count   1338.000000\n",
       "mean   13270.422265\n",
       "std    12110.011237\n",
       "min     1121.873900\n",
       "25%     4740.287150\n",
       "50%     9382.033000\n",
       "75%    16639.912515\n",
       "max    63770.428010"
      ]
     },
     "execution_count": 8,
     "metadata": {},
     "output_type": "execute_result"
    }
   ],
   "source": [
    "medical_charges.describe()"
   ]
  },
  {
   "cell_type": "markdown",
   "metadata": {},
   "source": [
    "__Q2:__ The administrator is concerned that the actual average charge has fallen below 12,000, threatening the hospital's operational model. On the assumption that these data represent a random sample of charges, how would you justify that these data allow you to answer that question? And what would be the most appropriate frequentist test, of the ones discussed so far, to apply?"
   ]
  },
  {
   "cell_type": "markdown",
   "metadata": {},
   "source": [
    "__A:__ First and foremost, the administrator's question is possible to answer because the sample size of 1,338 is large enough to make conclusions about the population parameters. We will resample this original sample numerous times to find the population paramaters. We want to find the population mean, standard deviation, and confidence intervals to assess whether there's a statistical likelihood that \\\\$12,000 could be the population's average medical charge."
   ]
  },
  {
   "cell_type": "markdown",
   "metadata": {},
   "source": [
    "### Exploring the original sample"
   ]
  },
  {
   "cell_type": "code",
   "execution_count": 9,
   "metadata": {},
   "outputs": [
    {
     "data": {
      "text/plain": [
       "charges    13270.422265\n",
       "dtype: float64"
      ]
     },
     "execution_count": 9,
     "metadata": {},
     "output_type": "execute_result"
    }
   ],
   "source": [
    "#Mean of the original sample\n",
    "sample1_mean = np.mean(medical_charges)\n",
    "sample1_mean"
   ]
  },
  {
   "cell_type": "code",
   "execution_count": 10,
   "metadata": {},
   "outputs": [
    {
     "data": {
      "text/plain": [
       "charges    12105.484976\n",
       "dtype: float64"
      ]
     },
     "execution_count": 10,
     "metadata": {},
     "output_type": "execute_result"
    }
   ],
   "source": [
    "#Standard deviation of original sample\n",
    "sample1_std_dev = np.std(medical_charges)\n",
    "sample1_std_dev"
   ]
  },
  {
   "cell_type": "code",
   "execution_count": 11,
   "metadata": {},
   "outputs": [
    {
     "data": {
      "text/plain": [
       "charges    1338\n",
       "dtype: int64"
      ]
     },
     "execution_count": 11,
     "metadata": {},
     "output_type": "execute_result"
    }
   ],
   "source": [
    "#Size of original sample\n",
    "sample1_n = medical_charges.count()\n",
    "sample1_n"
   ]
  },
  {
   "cell_type": "code",
   "execution_count": 12,
   "metadata": {},
   "outputs": [
    {
     "data": {
      "text/plain": [
       "charges    331.067454\n",
       "dtype: float64"
      ]
     },
     "execution_count": 12,
     "metadata": {},
     "output_type": "execute_result"
    }
   ],
   "source": [
    "#Standard Error for the original sample. n-1 is used because it is a sample and not the population.\n",
    "sample1_std_error = sample1_std_dev/(np.sqrt(sample1_n - 1))\n",
    "sample1_std_error"
   ]
  },
  {
   "cell_type": "code",
   "execution_count": 13,
   "metadata": {},
   "outputs": [
    {
     "data": {
      "text/plain": [
       "1.96"
      ]
     },
     "execution_count": 13,
     "metadata": {},
     "output_type": "execute_result"
    }
   ],
   "source": [
    "#Z Score for .025/.975 (95%) confidence interval\n",
    "z_score = round(norm.ppf(.975),2)\n",
    "z_score"
   ]
  },
  {
   "cell_type": "code",
   "execution_count": 14,
   "metadata": {},
   "outputs": [
    {
     "data": {
      "text/plain": [
       "charges    12621.530055\n",
       "dtype: float64"
      ]
     },
     "execution_count": 14,
     "metadata": {},
     "output_type": "execute_result"
    }
   ],
   "source": [
    "#Manual calculation of lower limit of 95% confidence interval for original sample.\n",
    "sample1_lower_ci = sample1_mean - (1.96 * sample1_std_error)\n",
    "sample1_lower_ci"
   ]
  },
  {
   "cell_type": "code",
   "execution_count": 15,
   "metadata": {},
   "outputs": [
    {
     "data": {
      "text/plain": [
       "charges    13919.314476\n",
       "dtype: float64"
      ]
     },
     "execution_count": 15,
     "metadata": {},
     "output_type": "execute_result"
    }
   ],
   "source": [
    "#Manual calculation of upper limit of 95% confidence interval for original sample.\n",
    "sample1_upper_ci = sample1_mean + (1.96 * sample1_std_error)\n",
    "sample1_upper_ci"
   ]
  },
  {
   "cell_type": "code",
   "execution_count": 16,
   "metadata": {},
   "outputs": [
    {
     "data": {
      "text/plain": [
       "(array([12621.54197823]), array([13919.30255205]))"
      ]
     },
     "execution_count": 16,
     "metadata": {},
     "output_type": "execute_result"
    }
   ],
   "source": [
    "#95% confidence interval\n",
    "sample1_confidence_interval = norm.interval(alpha = .95, loc = sample1_mean, scale = sample1_std_error)\n",
    "sample1_confidence_interval"
   ]
  },
  {
   "cell_type": "markdown",
   "metadata": {},
   "source": [
    "### Resampling the Original Sample 1000 Times"
   ]
  },
  {
   "cell_type": "code",
   "execution_count": 17,
   "metadata": {},
   "outputs": [],
   "source": [
    "#Function to resample the original sample n number of times.\n",
    "def charges_sampler(n):\n",
    "    return np.random.choice(medical.charges, n)"
   ]
  },
  {
   "cell_type": "code",
   "execution_count": 18,
   "metadata": {},
   "outputs": [],
   "source": [
    "#Resample 1000 times\n",
    "charges_sample1000 = charges_sampler(1000)"
   ]
  },
  {
   "cell_type": "code",
   "execution_count": 19,
   "metadata": {},
   "outputs": [
    {
     "data": {
      "image/png": "[encoded data removed]",
      "text/plain": [
       "<Figure size 432x288 with 1 Axes>"
      ]
     },
     "metadata": {
      "needs_background": "light"
     },
     "output_type": "display_data"
    }
   ],
   "source": [
    "_ = plt.hist(charges_sample1000, bins=20)\n",
    "_ = plt.xlabel('Charge ($)')\n",
    "_ = plt.ylabel('Number of Charges')\n",
    "_ = plt.title('Medical Charges')"
   ]
  },
  {
   "cell_type": "code",
   "execution_count": 20,
   "metadata": {
    "scrolled": false
   },
   "outputs": [
    {
     "data": {
      "text/html": [
       "<div>\n",
       "<style scoped>\n",
       "    .dataframe tbody tr th:only-of-type {\n",
       "        vertical-align: middle;\n",
       "    }\n",
       "\n",
       "    .dataframe tbody tr th {\n",
       "        vertical-align: top;\n",
       "    }\n",
       "\n",
       "    .dataframe thead th {\n",
       "        text-align: right;\n",
       "    }\n",
       "</style>\n",
       "<table border=\"1\" class=\"dataframe\">\n",
       "  <thead>\n",
       "    <tr style=\"text-align: right;\">\n",
       "      <th></th>\n",
       "      <th>0</th>\n",
       "    </tr>\n",
       "  </thead>\n",
       "  <tbody>\n",
       "    <tr>\n",
       "      <th>count</th>\n",
       "      <td>1000.000000</td>\n",
       "    </tr>\n",
       "    <tr>\n",
       "      <th>mean</th>\n",
       "      <td>12552.107107</td>\n",
       "    </tr>\n",
       "    <tr>\n",
       "      <th>std</th>\n",
       "      <td>11390.419204</td>\n",
       "    </tr>\n",
       "    <tr>\n",
       "      <th>min</th>\n",
       "      <td>1121.873900</td>\n",
       "    </tr>\n",
       "    <tr>\n",
       "      <th>25%</th>\n",
       "      <td>4523.273350</td>\n",
       "    </tr>\n",
       "    <tr>\n",
       "      <th>50%</th>\n",
       "      <td>9076.899275</td>\n",
       "    </tr>\n",
       "    <tr>\n",
       "      <th>75%</th>\n",
       "      <td>15398.873437</td>\n",
       "    </tr>\n",
       "    <tr>\n",
       "      <th>max</th>\n",
       "      <td>60021.398970</td>\n",
       "    </tr>\n",
       "  </tbody>\n",
       "</table>\n",
       "</div>"
      ],
      "text/plain": [
       "                  0\n",
       "count   1000.000000\n",
       "mean   12552.107107\n",
       "std    11390.419204\n",
       "min     1121.873900\n",
       "25%     4523.273350\n",
       "50%     9076.899275\n",
       "75%    15398.873437\n",
       "max    60021.398970"
      ]
     },
     "execution_count": 20,
     "metadata": {},
     "output_type": "execute_result"
    }
   ],
   "source": [
    "pd.DataFrame(charges_sample1000).describe()"
   ]
  },
  {
   "cell_type": "code",
   "execution_count": 21,
   "metadata": {},
   "outputs": [
    {
     "data": {
      "text/plain": [
       "12552.107106548001"
      ]
     },
     "execution_count": 21,
     "metadata": {},
     "output_type": "execute_result"
    }
   ],
   "source": [
    "#Resample x1000 mean\n",
    "sample1000_mean = np.mean(charges_sample1000)\n",
    "sample1000_mean"
   ]
  },
  {
   "cell_type": "code",
   "execution_count": 22,
   "metadata": {},
   "outputs": [
    {
     "data": {
      "text/plain": [
       "11384.72256995844"
      ]
     },
     "execution_count": 22,
     "metadata": {},
     "output_type": "execute_result"
    }
   ],
   "source": [
    "#Resample x1000 standard deviation\n",
    "sample1000_std_dev = np.std(charges_sample1000)\n",
    "sample1000_std_dev"
   ]
  },
  {
   "cell_type": "code",
   "execution_count": 23,
   "metadata": {},
   "outputs": [
    {
     "data": {
      "text/plain": [
       "1000"
      ]
     },
     "execution_count": 23,
     "metadata": {},
     "output_type": "execute_result"
    }
   ],
   "source": [
    "#Resample x1000 size\n",
    "sample1000_n = len(charges_sample1000)\n",
    "sample1000_n"
   ]
  },
  {
   "cell_type": "code",
   "execution_count": 24,
   "metadata": {},
   "outputs": [
    {
     "data": {
      "text/plain": [
       "360.19668188999975"
      ]
     },
     "execution_count": 24,
     "metadata": {},
     "output_type": "execute_result"
    }
   ],
   "source": [
    "#Resample x1000 standard error \n",
    "sample1000_std_error = sample1000_std_dev/(np.sqrt(sample1000_n - 1))\n",
    "sample1000_std_error"
   ]
  },
  {
   "cell_type": "code",
   "execution_count": 25,
   "metadata": {},
   "outputs": [
    {
     "data": {
      "text/plain": [
       "(11846.13458269277, 13258.079630403232)"
      ]
     },
     "execution_count": 25,
     "metadata": {},
     "output_type": "execute_result"
    }
   ],
   "source": [
    "#95% Confidence interval\n",
    "sample1000_confidence_interval = norm.interval(alpha = .95, loc = sample1000_mean, scale = sample1000_std_error)\n",
    "sample1000_confidence_interval"
   ]
  },
  {
   "cell_type": "code",
   "execution_count": 26,
   "metadata": {},
   "outputs": [
    {
     "data": {
      "text/plain": [
       "0.06266338030072198"
      ]
     },
     "execution_count": 26,
     "metadata": {},
     "output_type": "execute_result"
    }
   ],
   "source": [
    "norm.cdf(12000, sample1000_mean, sample1000_std_error)"
   ]
  },
  {
   "cell_type": "markdown",
   "metadata": {},
   "source": [
    "__Q3:__ Given the nature of the administrator's concern, what is the appropriate confidence interval in this case? A ***one-sided*** or ***two-sided*** interval? (Refresh your understanding of this concept on p. 399 of the *AoS*). Calculate the critical value and the relevant 95% confidence interval for the mean, and comment on whether the administrator should be concerned.\n",
    "\n",
    "\n",
    "__A:__ \n",
    "Becuse the sample distribution of means can be described with a normal distribution and we might want to detect changes on both sides, it is more appropriate to use a two-sided interval for the confidence interval. -- Because we want to detect changes on one end of the sample it is best to use a one sided interval\n",
    "\n",
    "The population mean, as derived from the sample distribution of means, is __\\\\$13264.65__.\n",
    "\n",
    "The 95% confidence interval is __\\\\$12515.5316449352 - \\\\$14013.769216189121__. \n",
    "\n",
    "\\\\$12,000 does not fall within the 95% confidence interval, __this tells us that it is unlikely that the average hospital charge is \\\\$12,000 or less__, as the administrator fears. \n",
    "\n",
    "We can determine the actual chance of the population mean being  \\\\$12,000 by using a Cumulative Distribution Function (CDF). Doing this tells us that __there is a 0.046%  chance that the mean charge of the population is ≤ $12,000__. It is safe to say that the administrator does not need to be concerned.\n",
    "\n",
    "\n"
   ]
  },
  {
   "cell_type": "markdown",
   "metadata": {},
   "source": [
    "### Creating the Sample Distribution of the Mean"
   ]
  },
  {
   "cell_type": "code",
   "execution_count": 27,
   "metadata": {},
   "outputs": [],
   "source": [
    "#Create a list with the mean of each resample\n",
    "mean_list = []\n",
    "for i in range(1000):\n",
    "    mean_list.append(np.mean(charges_sampler(1000)))\n",
    "\n",
    "#Create a list with the standard deviation of each resample\n",
    "std_dev_list = []\n",
    "for i in range(1000):\n",
    "    std_dev_list.append(np.std(charges_sampler(1000)))\n",
    "    \n",
    "#Create a list with the standard error of each resample\n",
    "std_error_list = []\n",
    "for x in std_dev_list:\n",
    "    std_error_list.append(x/(np.sqrt(sample1000_n - 1)))"
   ]
  },
  {
   "cell_type": "code",
   "execution_count": 28,
   "metadata": {},
   "outputs": [
    {
     "data": {
      "image/png": "[encoded data removed]",
      "text/plain": [
       "<Figure size 432x288 with 1 Axes>"
      ]
     },
     "metadata": {
      "needs_background": "light"
     },
     "output_type": "display_data"
    }
   ],
   "source": [
    "_ = plt.hist(mean_list)\n",
    "_ = plt.xlabel('Mean Charge')\n",
    "_ = plt.ylabel('Sample Count')\n",
    "_ = plt.title('Sample Distribution of the Mean')"
   ]
  },
  {
   "cell_type": "code",
   "execution_count": 29,
   "metadata": {},
   "outputs": [
    {
     "name": "stdout",
     "output_type": "stream",
     "text": [
      "Mean of the Sample Distribution of Means: 13229.696730644348\n",
      "Original Sample Mean: 13270.422265141257\n"
     ]
    }
   ],
   "source": [
    "#This is the mean of the sample distribution\n",
    "sample_distribution_mean = np.mean(mean_list)\n",
    "sample_distribution_mean\n",
    "print('Mean of the Sample Distribution of Means: ' + str(sample_distribution_mean))\n",
    "\n",
    "\n",
    "#This is the mean of the original sample for comparison\n",
    "original_sample_mean = np.mean(medical.charges)\n",
    "print('Original Sample Mean: ' + str(original_sample_mean))"
   ]
  },
  {
   "cell_type": "code",
   "execution_count": 30,
   "metadata": {},
   "outputs": [
    {
     "name": "stdout",
     "output_type": "stream",
     "text": [
      "Mean Standard Deviation of the Sample Distribution: 12085.010759952425\n",
      "Size of Sample Distribution: 1000\n",
      "Standard Error of Sample Distribution: 382.3528197187943\n"
     ]
    }
   ],
   "source": [
    "#The average standard deviation of sample distribution\n",
    "sample_distribution_std_dev_mean = np.mean(std_dev_list)\n",
    "print('Mean Standard Deviation of the Sample Distribution: ' +str(sample_distribution_std_dev_mean))\n",
    "\n",
    "\n",
    "#Sample distribution size\n",
    "sample_distribution_n = len(mean_list)\n",
    "print('Size of Sample Distribution: ' +str(sample_distribution_n))\n",
    "\n",
    "\n",
    "#Sample distribution standard error \n",
    "sample_distribution_std_error = sample_distribution_std_dev_mean/(np.sqrt(sample_distribution_n - 1))\n",
    "print('Standard Error of Sample Distribution: ' + str(sample_distribution_std_error))\n",
    "\n"
   ]
  },
  {
   "cell_type": "code",
   "execution_count": 31,
   "metadata": {},
   "outputs": [
    {
     "name": "stdout",
     "output_type": "stream",
     "text": [
      "Confidence Interval: $12515.5316449352 - $14013.769216189121\n"
     ]
    }
   ],
   "source": [
    "#95% Confidence interval\n",
    "sample_distribution_confidence_interval = norm.interval(alpha = .95, loc = sample_distribution_mean, scale = sample_distribution_std_error)\n",
    "print('Confidence Interval: $12515.5316449352 - $14013.769216189121')"
   ]
  },
  {
   "cell_type": "code",
   "execution_count": 32,
   "metadata": {},
   "outputs": [
    {
     "name": "stdout",
     "output_type": "stream",
     "text": [
      "Percent chance that the mean charge of the population is ≤ $12,000: 0.065%\n"
     ]
    }
   ],
   "source": [
    "#Percent liklihood that $12,000 is the mean charge of the population\n",
    "perc_12000 = norm.cdf(12000, sample_distribution_mean, sample_distribution_std_error)\n",
    "print('Percent chance that the mean charge of the population is ≤ $12,000: ' + str(round((perc_12000 * 100), 3)) + '%')"
   ]
  },
  {
   "cell_type": "code",
   "execution_count": 33,
   "metadata": {
    "scrolled": true
   },
   "outputs": [
    {
     "data": {
      "image/png": "[encoded data removed]",
      "text/plain": [
       "<Figure size 432x288 with 1 Axes>"
      ]
     },
     "metadata": {
      "needs_background": "light"
     },
     "output_type": "display_data"
    }
   ],
   "source": [
    "_ = plt.hist(mean_list, bins = 20)\n",
    "_ = plt.xlabel('Charge')\n",
    "_ = plt.ylabel('Count')\n",
    "_ = plt.axvline(sample_distribution_mean, color='r')\n",
    "_ = plt.axvline(sample_distribution_mean+sample_distribution_std_error, color='r', linestyle='--')\n",
    "_ = plt.axvline(sample_distribution_mean-sample_distribution_std_error, color='r', linestyle='--')\n",
    "_ = plt.axvline(sample_distribution_mean+(sample_distribution_std_error * 2), color='r', linestyle='-.')\n",
    "_ = plt.axvline(sample_distribution_mean-(sample_distribution_std_error * 2), color='r', linestyle='-.')\n"
   ]
  },
  {
   "cell_type": "markdown",
   "metadata": {},
   "source": [
    "The administrator then wants to know whether people with insurance really are charged a different amount to those without.\n",
    "\n",
    "__Q4:__ State the null and alternative hypothesis here. Use the _t_-test for the difference between means, where the pooled standard deviation of the two groups is given by:\n",
    "\\begin{equation}\n",
    "s_p = \\sqrt{\\frac{(n_0 - 1)s^2_0 + (n_1 - 1)s^2_1}{n_0 + n_1 - 2}}\n",
    "\\end{equation}\n",
    "\n",
    "and the *t*-test statistic is then given by:\n",
    "\n",
    "\\begin{equation}\n",
    "t = \\frac{\\bar{x}_0 - \\bar{x}_1}{s_p \\sqrt{1/n_0 + 1/n_1}}.\n",
    "\\end{equation}\n",
    "\n",
    "(If you need some reminding of the general definition of ***t-statistic***, check out the definition on p. 404 of *AoS*). \n",
    "\n",
    "What assumption about the variances of the two groups are we making here?"
   ]
  },
  {
   "cell_type": "markdown",
   "metadata": {},
   "source": [
    "__A:__\n",
    "\n",
    "Null Hypothesis: There is no difference in the amount charged between people with insurance and people without insurance.\n",
    "\n",
    "Alternative Hypothesis: There is a difference in the amount charged between people with insurance and people without insurance.\n",
    "\n",
    "By using the t-test we are assuming that the variances of the two groups are equal."
   ]
  },
  {
   "cell_type": "markdown",
   "metadata": {},
   "source": [
    "__Q5:__ Perform this hypothesis test both manually, using the above formulae, and then using the appropriate function from [scipy.stats](https://docs.scipy.org/doc/scipy/reference/stats.html#statistical-tests) (hint, you're looking for a function to perform a _t_-test on two independent samples). For the manual approach, calculate the value of the test statistic and then its probability (the p-value). Verify you get the same results from both."
   ]
  },
  {
   "cell_type": "markdown",
   "metadata": {},
   "source": [
    "__A:__ "
   ]
  },
  {
   "cell_type": "code",
   "execution_count": 34,
   "metadata": {},
   "outputs": [],
   "source": [
    "medical_insurance_charges = pd.DataFrame(medical[['charges', 'insuranceclaim']])"
   ]
  },
  {
   "cell_type": "code",
   "execution_count": 50,
   "metadata": {
    "scrolled": false
   },
   "outputs": [],
   "source": [
    "insurance_charges = medical_insurance_charges[medical_insurance_charges['insuranceclaim'] == 1]\n",
    "insurance_charges = insurance_charges.reset_index().drop('index', axis = 1)\n",
    "\n",
    "#Function to resample the original sample n number of times.\n",
    "def insurance_charges_sampler(n):\n",
    "    return np.random.choice(insurance_charges.charges, n)"
   ]
  },
  {
   "cell_type": "code",
   "execution_count": 51,
   "metadata": {},
   "outputs": [],
   "source": [
    "no_insurance_charges = medical_insurance_charges[medical_insurance_charges['insuranceclaim'] == 0]\n",
    "no_insurance_charges = no_insurance_charges.reset_index().drop('index', axis = 1)\n",
    "\n",
    "#Function to resample the original sample n number of times.\n",
    "def no_insurance_charges_sampler(n):\n",
    "    return np.random.choice(no_insurance_charges.charges, n)"
   ]
  },
  {
   "cell_type": "code",
   "execution_count": 37,
   "metadata": {},
   "outputs": [
    {
     "name": "stdout",
     "output_type": "stream",
     "text": [
      "Mean of the Sample Distribution of Means with Insurance: 16428.696461456453\n",
      "Mean Standard Deviation of the Sample Distribution with Insurance: 14019.464835560713\n",
      "Size of Sample Distribution with Insurance: 1000\n",
      "Standard Error of Sample Distribution with Insurance: 443.55623816144816\n",
      "Confidence Interval: (15559.342209541945, 17298.05071337096)\n"
     ]
    },
    {
     "data": {
      "image/png": "[encoded data removed]",
      "text/plain": [
       "<Figure size 432x288 with 1 Axes>"
      ]
     },
     "metadata": {
      "needs_background": "light"
     },
     "output_type": "display_data"
    }
   ],
   "source": [
    "#Create a list with the mean of each resample\n",
    "insurance_mean_list = []\n",
    "for i in range(1000):\n",
    "    insurance_mean_list.append(np.mean(insurance_charges_sampler(1000)))\n",
    "\n",
    "#Create a list with the standard deviation of each resample\n",
    "insurance_std_dev_list = []\n",
    "for i in range(1000):\n",
    "    insurance_std_dev_list.append(np.std(insurance_charges_sampler(1000)))\n",
    "    \n",
    "#Create a list with the standard error of each resample\n",
    "insurance_std_error_list = []\n",
    "for x in insurance_std_dev_list:\n",
    "    std_error_list.append(x/(np.sqrt(sample1000_n - 1)))\n",
    "    \n",
    "\n",
    "_ = plt.hist(insurance_mean_list)\n",
    "_ = plt.xlabel('Mean Charge with Insurance')\n",
    "_ = plt.ylabel('Sample Count')\n",
    "_ = plt.title('Sample Distribution of the Mean')\n",
    "    \n",
    "\n",
    "#This is the mean of the sample distribution\n",
    "insurance_sample_distribution_mean = np.mean(insurance_mean_list)\n",
    "insurance_sample_distribution_mean\n",
    "print('Mean of the Sample Distribution of Means with Insurance: ' + str(insurance_sample_distribution_mean))\n",
    "\n",
    "\n",
    "#The average standard deviation of sample distribution\n",
    "insurance_sample_distribution_std_dev_mean = np.mean(insurance_std_dev_list)\n",
    "print('Mean Standard Deviation of the Sample Distribution with Insurance: ' +str(insurance_sample_distribution_std_dev_mean))\n",
    "\n",
    "\n",
    "#Sample distribution size\n",
    "insurance_sample_distribution_n = len(insurance_mean_list)\n",
    "print('Size of Sample Distribution with Insurance: ' +str(insurance_sample_distribution_n))\n",
    "\n",
    "\n",
    "#Sample distribution standard error \n",
    "insurance_sample_distribution_std_error = insurance_sample_distribution_std_dev_mean/(np.sqrt(insurance_sample_distribution_n - 1))\n",
    "print('Standard Error of Sample Distribution with Insurance: ' + str(insurance_sample_distribution_std_error))\n",
    "\n",
    "\n",
    "#95% Confidence interval\n",
    "insurance_sample_distribution_confidence_interval = norm.interval(alpha = .95, loc = insurance_sample_distribution_mean, scale = insurance_sample_distribution_std_error)\n",
    "print('Confidence Interval: ' + str(insurance_sample_distribution_confidence_interval))"
   ]
  },
  {
   "cell_type": "code",
   "execution_count": 38,
   "metadata": {
    "scrolled": true
   },
   "outputs": [],
   "source": [
    "no_insurance_charges = medical_insurance_charges[medical_insurance_charges['insuranceclaim'] == 0]\n",
    "no_insurance_charges = no_insurance_charges.reset_index().drop('index', axis = 1)\n",
    "no_insurance_charges\n",
    "\n",
    "#Function to resample the original sample n number of times.\n",
    "def no_insurance_charges_sampler(n):\n",
    "    return np.random.choice(no_insurance_charges.charges, n)"
   ]
  },
  {
   "cell_type": "code",
   "execution_count": 39,
   "metadata": {},
   "outputs": [
    {
     "data": {
      "text/html": [
       "<div>\n",
       "<style scoped>\n",
       "    .dataframe tbody tr th:only-of-type {\n",
       "        vertical-align: middle;\n",
       "    }\n",
       "\n",
       "    .dataframe tbody tr th {\n",
       "        vertical-align: top;\n",
       "    }\n",
       "\n",
       "    .dataframe thead th {\n",
       "        text-align: right;\n",
       "    }\n",
       "</style>\n",
       "<table border=\"1\" class=\"dataframe\">\n",
       "  <thead>\n",
       "    <tr style=\"text-align: right;\">\n",
       "      <th></th>\n",
       "      <th>charges</th>\n",
       "      <th>insuranceclaim</th>\n",
       "    </tr>\n",
       "  </thead>\n",
       "  <tbody>\n",
       "    <tr>\n",
       "      <th>0</th>\n",
       "      <td>4449.46200</td>\n",
       "      <td>0</td>\n",
       "    </tr>\n",
       "    <tr>\n",
       "      <th>1</th>\n",
       "      <td>21984.47061</td>\n",
       "      <td>0</td>\n",
       "    </tr>\n",
       "    <tr>\n",
       "      <th>2</th>\n",
       "      <td>3756.62160</td>\n",
       "      <td>0</td>\n",
       "    </tr>\n",
       "    <tr>\n",
       "      <th>3</th>\n",
       "      <td>7281.50560</td>\n",
       "      <td>0</td>\n",
       "    </tr>\n",
       "    <tr>\n",
       "      <th>4</th>\n",
       "      <td>6406.41070</td>\n",
       "      <td>0</td>\n",
       "    </tr>\n",
       "    <tr>\n",
       "      <th>...</th>\n",
       "      <td>...</td>\n",
       "      <td>...</td>\n",
       "    </tr>\n",
       "    <tr>\n",
       "      <th>550</th>\n",
       "      <td>4239.89265</td>\n",
       "      <td>0</td>\n",
       "    </tr>\n",
       "    <tr>\n",
       "      <th>551</th>\n",
       "      <td>22395.74424</td>\n",
       "      <td>0</td>\n",
       "    </tr>\n",
       "    <tr>\n",
       "      <th>552</th>\n",
       "      <td>11411.68500</td>\n",
       "      <td>0</td>\n",
       "    </tr>\n",
       "    <tr>\n",
       "      <th>553</th>\n",
       "      <td>10600.54830</td>\n",
       "      <td>0</td>\n",
       "    </tr>\n",
       "    <tr>\n",
       "      <th>554</th>\n",
       "      <td>2007.94500</td>\n",
       "      <td>0</td>\n",
       "    </tr>\n",
       "  </tbody>\n",
       "</table>\n",
       "<p>555 rows × 2 columns</p>\n",
       "</div>"
      ],
      "text/plain": [
       "         charges  insuranceclaim\n",
       "0     4449.46200               0\n",
       "1    21984.47061               0\n",
       "2     3756.62160               0\n",
       "3     7281.50560               0\n",
       "4     6406.41070               0\n",
       "..           ...             ...\n",
       "550   4239.89265               0\n",
       "551  22395.74424               0\n",
       "552  11411.68500               0\n",
       "553  10600.54830               0\n",
       "554   2007.94500               0\n",
       "\n",
       "[555 rows x 2 columns]"
      ]
     },
     "execution_count": 39,
     "metadata": {},
     "output_type": "execute_result"
    }
   ],
   "source": [
    "no_insurance_charges"
   ]
  },
  {
   "cell_type": "code",
   "execution_count": 49,
   "metadata": {},
   "outputs": [
    {
     "data": {
      "text/plain": [
       "charges           6440.699842\n",
       "insuranceclaim       0.000000\n",
       "dtype: float64"
      ]
     },
     "execution_count": 49,
     "metadata": {},
     "output_type": "execute_result"
    }
   ],
   "source": [
    "np.std(no_insurance_charges)"
   ]
  },
  {
   "cell_type": "code",
   "execution_count": 40,
   "metadata": {
    "scrolled": false
   },
   "outputs": [
    {
     "name": "stdout",
     "output_type": "stream",
     "text": [
      "Mean of the Sample Distribution of Means with No Insurance: 8821.37478313873\n",
      "Mean Standard Deviation of the Sample Distribution with No Insurance: 6420.233098176567\n",
      "Size of Sample Distribution with Insurance: 1000\n",
      "Standard Error of Sample Distribution with Insurance: 203.12718599097093\n",
      "Confidence Interval: (8423.252814315458, 9219.496751962002)\n"
     ]
    },
    {
     "data": {
      "image/png": "[encoded data removed]",
      "text/plain": [
       "<Figure size 432x288 with 1 Axes>"
      ]
     },
     "metadata": {
      "needs_background": "light"
     },
     "output_type": "display_data"
    }
   ],
   "source": [
    "#Create a list with the mean of each resample\n",
    "no_insurance_mean_list = []\n",
    "for i in range(1000):\n",
    "    no_insurance_mean_list.append(np.mean(no_insurance_charges_sampler(1000)))\n",
    "\n",
    "#Create a list with the standard deviation of each resample\n",
    "no_insurance_std_dev_list = []\n",
    "for i in range(1000):\n",
    "    no_insurance_std_dev_list.append(np.std(no_insurance_charges_sampler(1000)))\n",
    "    \n",
    "#Create a list with the standard error of each resample\n",
    "no_insurance_std_error_list = []\n",
    "for x in no_insurance_std_dev_list:\n",
    "    no_insurance_std_error_list.append(x/(np.sqrt(sample1000_n - 1)))\n",
    "    \n",
    "    \n",
    "_ = plt.hist(no_insurance_mean_list)\n",
    "_ = plt.xlabel('Mean Charge with No Insurance')\n",
    "_ = plt.ylabel('Sample Count')\n",
    "_ = plt.title('Sample Distribution of the Mean with No Insurance')  \n",
    "\n",
    "#This is the mean of the sample distribution\n",
    "no_insurance_sample_distribution_mean = np.mean(no_insurance_mean_list)\n",
    "no_insurance_sample_distribution_mean\n",
    "print('Mean of the Sample Distribution of Means with No Insurance: ' + str(no_insurance_sample_distribution_mean))\n",
    "\n",
    "\n",
    "#The average standard deviation of sample distribution\n",
    "no_insurance_sample_distribution_std_dev_mean = np.mean(no_insurance_std_dev_list)\n",
    "print('Mean Standard Deviation of the Sample Distribution with No Insurance: ' +str(no_insurance_sample_distribution_std_dev_mean))\n",
    "\n",
    "\n",
    "#Sample distribution size\n",
    "no_insurance_sample_distribution_n = len(no_insurance_mean_list)\n",
    "print('Size of Sample Distribution with Insurance: ' +str(no_insurance_sample_distribution_n))\n",
    "\n",
    "\n",
    "#Sample distribution standard error \n",
    "no_insurance_sample_distribution_std_error = no_insurance_sample_distribution_std_dev_mean/(np.sqrt(no_insurance_sample_distribution_n - 1))\n",
    "print('Standard Error of Sample Distribution with Insurance: ' + str(no_insurance_sample_distribution_std_error))\n",
    "\n",
    "#95% Confidence interval\n",
    "no_insurance_sample_distribution_confidence_interval = norm.interval(alpha = .95, loc = no_insurance_sample_distribution_mean, scale = no_insurance_sample_distribution_std_error)\n",
    "print('Confidence Interval: ' + str(no_insurance_sample_distribution_confidence_interval))\n",
    "\n",
    "\n"
   ]
  },
  {
   "cell_type": "code",
   "execution_count": 41,
   "metadata": {},
   "outputs": [
    {
     "name": "stdout",
     "output_type": "stream",
     "text": [
      "Mean of the Sample Distribution of Means with Insurance: 16428.696461456453\n",
      "Mean of the Sample Distribution of Means with No Insurance: 8821.37478313873\n"
     ]
    }
   ],
   "source": [
    "#This is the mean of the sample distribution\n",
    "insurance_sample_distribution_mean = np.mean(insurance_mean_list)\n",
    "insurance_sample_distribution_mean\n",
    "print('Mean of the Sample Distribution of Means with Insurance: ' + str(insurance_sample_distribution_mean))\n",
    "\n",
    "#This is the mean of the sample distribution\n",
    "no_insurance_sample_distribution_mean = np.mean(no_insurance_mean_list)\n",
    "no_insurance_sample_distribution_mean\n",
    "print('Mean of the Sample Distribution of Means with No Insurance: ' + str(no_insurance_sample_distribution_mean))"
   ]
  },
  {
   "cell_type": "code",
   "execution_count": 45,
   "metadata": {},
   "outputs": [
    {
     "data": {
      "text/plain": [
       "Ttest_indResult(statistic=496.35439929945943, pvalue=0.0)"
      ]
     },
     "execution_count": 45,
     "metadata": {},
     "output_type": "execute_result"
    }
   ],
   "source": [
    "stats.ttest_ind(insurance_mean_list, no_insurance_mean_list, equal_var=True)"
   ]
  },
  {
   "cell_type": "markdown",
   "metadata": {},
   "source": [
    "Congratulations! Hopefully you got the exact same numerical results. This shows that you correctly calculated the numbers by hand. Secondly, you used the correct function and saw that it's much easier to use. All you need to do is pass your data to it."
   ]
  },
  {
   "cell_type": "markdown",
   "metadata": {},
   "source": [
    "__Q6:__ Conceptual question: look through the documentation for statistical test functions in scipy.stats. You'll see the above _t_-test for a sample, but can you see an equivalent one for performing a *z*-test from a sample? Comment on your answer."
   ]
  },
  {
   "cell_type": "markdown",
   "metadata": {},
   "source": [
    "__A:__"
   ]
  },
  {
   "cell_type": "markdown",
   "metadata": {},
   "source": [
    "## Learning outcomes"
   ]
  },
  {
   "cell_type": "markdown",
   "metadata": {},
   "source": [
    "Having completed this project notebook, you now have good hands-on experience:\n",
    "* using the central limit theorem to help you apply frequentist techniques to answer questions that pertain to very non-normally distributed data from the real world\n",
    "* performing inference using such data to answer business questions\n",
    "* forming a hypothesis and framing the null and alternative hypotheses\n",
    "* testing this using a _t_-test"
   ]
  }
 ],
 "metadata": {
  "kernelspec": {
   "display_name": "Python 3",
   "language": "python",
   "name": "python3"
  },
  "language_info": {
   "codemirror_mode": {
    "name": "ipython",
    "version": 3
   },
   "file_extension": ".py",
   "mimetype": "text/x-python",
   "name": "python",
   "nbconvert_exporter": "python",
   "pygments_lexer": "ipython3",
   "version": "3.8.5"
  }
 },
 "nbformat": 4,
 "nbformat_minor": 2
}
