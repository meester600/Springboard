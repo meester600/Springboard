{
 "cells": [
  {
   "cell_type": "code",
   "execution_count": 5,
   "metadata": {},
   "outputs": [],
   "source": [
    "import pandas as pd\n",
    "import numpy as np\n",
    "import seaborn as sns\n",
    "import matplotlib.pyplot as plt\n",
    "%matplotlib inline\n",
    "import warnings\n",
    "warnings.filterwarnings(\"ignore\")"
   ]
  },
  {
   "cell_type": "markdown",
   "metadata": {},
   "source": [
    "_**This project is for a non-technical audience**_"
   ]
  },
  {
   "cell_type": "code",
   "execution_count": 126,
   "metadata": {},
   "outputs": [],
   "source": [
    "file = 'adult.csv'\n",
    "data = pd.read_csv(file)"
   ]
  },
  {
   "cell_type": "code",
   "execution_count": 127,
   "metadata": {
    "scrolled": true
   },
   "outputs": [
    {
     "data": {
      "text/html": [
       "<div>\n",
       "<style scoped>\n",
       "    .dataframe tbody tr th:only-of-type {\n",
       "        vertical-align: middle;\n",
       "    }\n",
       "\n",
       "    .dataframe tbody tr th {\n",
       "        vertical-align: top;\n",
       "    }\n",
       "\n",
       "    .dataframe thead th {\n",
       "        text-align: right;\n",
       "    }\n",
       "</style>\n",
       "<table border=\"1\" class=\"dataframe\">\n",
       "  <thead>\n",
       "    <tr style=\"text-align: right;\">\n",
       "      <th></th>\n",
       "      <th>age</th>\n",
       "      <th>workclass</th>\n",
       "      <th>fnlwgt</th>\n",
       "      <th>education</th>\n",
       "      <th>educational-num</th>\n",
       "      <th>marital-status</th>\n",
       "      <th>occupation</th>\n",
       "      <th>relationship</th>\n",
       "      <th>race</th>\n",
       "      <th>gender</th>\n",
       "      <th>capital-gain</th>\n",
       "      <th>capital-loss</th>\n",
       "      <th>hours-per-week</th>\n",
       "      <th>native-country</th>\n",
       "      <th>income</th>\n",
       "    </tr>\n",
       "  </thead>\n",
       "  <tbody>\n",
       "    <tr>\n",
       "      <th>0</th>\n",
       "      <td>25</td>\n",
       "      <td>Private</td>\n",
       "      <td>226802</td>\n",
       "      <td>11th</td>\n",
       "      <td>7</td>\n",
       "      <td>Never-married</td>\n",
       "      <td>Machine-op-inspct</td>\n",
       "      <td>Own-child</td>\n",
       "      <td>Black</td>\n",
       "      <td>Male</td>\n",
       "      <td>0</td>\n",
       "      <td>0</td>\n",
       "      <td>40</td>\n",
       "      <td>United-States</td>\n",
       "      <td>&lt;=50K</td>\n",
       "    </tr>\n",
       "    <tr>\n",
       "      <th>1</th>\n",
       "      <td>38</td>\n",
       "      <td>Private</td>\n",
       "      <td>89814</td>\n",
       "      <td>HS-grad</td>\n",
       "      <td>9</td>\n",
       "      <td>Married-civ-spouse</td>\n",
       "      <td>Farming-fishing</td>\n",
       "      <td>Husband</td>\n",
       "      <td>White</td>\n",
       "      <td>Male</td>\n",
       "      <td>0</td>\n",
       "      <td>0</td>\n",
       "      <td>50</td>\n",
       "      <td>United-States</td>\n",
       "      <td>&lt;=50K</td>\n",
       "    </tr>\n",
       "    <tr>\n",
       "      <th>2</th>\n",
       "      <td>28</td>\n",
       "      <td>Local-gov</td>\n",
       "      <td>336951</td>\n",
       "      <td>Assoc-acdm</td>\n",
       "      <td>12</td>\n",
       "      <td>Married-civ-spouse</td>\n",
       "      <td>Protective-serv</td>\n",
       "      <td>Husband</td>\n",
       "      <td>White</td>\n",
       "      <td>Male</td>\n",
       "      <td>0</td>\n",
       "      <td>0</td>\n",
       "      <td>40</td>\n",
       "      <td>United-States</td>\n",
       "      <td>&gt;50K</td>\n",
       "    </tr>\n",
       "    <tr>\n",
       "      <th>3</th>\n",
       "      <td>44</td>\n",
       "      <td>Private</td>\n",
       "      <td>160323</td>\n",
       "      <td>Some-college</td>\n",
       "      <td>10</td>\n",
       "      <td>Married-civ-spouse</td>\n",
       "      <td>Machine-op-inspct</td>\n",
       "      <td>Husband</td>\n",
       "      <td>Black</td>\n",
       "      <td>Male</td>\n",
       "      <td>7688</td>\n",
       "      <td>0</td>\n",
       "      <td>40</td>\n",
       "      <td>United-States</td>\n",
       "      <td>&gt;50K</td>\n",
       "    </tr>\n",
       "    <tr>\n",
       "      <th>4</th>\n",
       "      <td>18</td>\n",
       "      <td>?</td>\n",
       "      <td>103497</td>\n",
       "      <td>Some-college</td>\n",
       "      <td>10</td>\n",
       "      <td>Never-married</td>\n",
       "      <td>?</td>\n",
       "      <td>Own-child</td>\n",
       "      <td>White</td>\n",
       "      <td>Female</td>\n",
       "      <td>0</td>\n",
       "      <td>0</td>\n",
       "      <td>30</td>\n",
       "      <td>United-States</td>\n",
       "      <td>&lt;=50K</td>\n",
       "    </tr>\n",
       "    <tr>\n",
       "      <th>5</th>\n",
       "      <td>34</td>\n",
       "      <td>Private</td>\n",
       "      <td>198693</td>\n",
       "      <td>10th</td>\n",
       "      <td>6</td>\n",
       "      <td>Never-married</td>\n",
       "      <td>Other-service</td>\n",
       "      <td>Not-in-family</td>\n",
       "      <td>White</td>\n",
       "      <td>Male</td>\n",
       "      <td>0</td>\n",
       "      <td>0</td>\n",
       "      <td>30</td>\n",
       "      <td>United-States</td>\n",
       "      <td>&lt;=50K</td>\n",
       "    </tr>\n",
       "    <tr>\n",
       "      <th>6</th>\n",
       "      <td>29</td>\n",
       "      <td>?</td>\n",
       "      <td>227026</td>\n",
       "      <td>HS-grad</td>\n",
       "      <td>9</td>\n",
       "      <td>Never-married</td>\n",
       "      <td>?</td>\n",
       "      <td>Unmarried</td>\n",
       "      <td>Black</td>\n",
       "      <td>Male</td>\n",
       "      <td>0</td>\n",
       "      <td>0</td>\n",
       "      <td>40</td>\n",
       "      <td>United-States</td>\n",
       "      <td>&lt;=50K</td>\n",
       "    </tr>\n",
       "    <tr>\n",
       "      <th>7</th>\n",
       "      <td>63</td>\n",
       "      <td>Self-emp-not-inc</td>\n",
       "      <td>104626</td>\n",
       "      <td>Prof-school</td>\n",
       "      <td>15</td>\n",
       "      <td>Married-civ-spouse</td>\n",
       "      <td>Prof-specialty</td>\n",
       "      <td>Husband</td>\n",
       "      <td>White</td>\n",
       "      <td>Male</td>\n",
       "      <td>3103</td>\n",
       "      <td>0</td>\n",
       "      <td>32</td>\n",
       "      <td>United-States</td>\n",
       "      <td>&gt;50K</td>\n",
       "    </tr>\n",
       "    <tr>\n",
       "      <th>8</th>\n",
       "      <td>24</td>\n",
       "      <td>Private</td>\n",
       "      <td>369667</td>\n",
       "      <td>Some-college</td>\n",
       "      <td>10</td>\n",
       "      <td>Never-married</td>\n",
       "      <td>Other-service</td>\n",
       "      <td>Unmarried</td>\n",
       "      <td>White</td>\n",
       "      <td>Female</td>\n",
       "      <td>0</td>\n",
       "      <td>0</td>\n",
       "      <td>40</td>\n",
       "      <td>United-States</td>\n",
       "      <td>&lt;=50K</td>\n",
       "    </tr>\n",
       "    <tr>\n",
       "      <th>9</th>\n",
       "      <td>55</td>\n",
       "      <td>Private</td>\n",
       "      <td>104996</td>\n",
       "      <td>7th-8th</td>\n",
       "      <td>4</td>\n",
       "      <td>Married-civ-spouse</td>\n",
       "      <td>Craft-repair</td>\n",
       "      <td>Husband</td>\n",
       "      <td>White</td>\n",
       "      <td>Male</td>\n",
       "      <td>0</td>\n",
       "      <td>0</td>\n",
       "      <td>10</td>\n",
       "      <td>United-States</td>\n",
       "      <td>&lt;=50K</td>\n",
       "    </tr>\n",
       "    <tr>\n",
       "      <th>10</th>\n",
       "      <td>65</td>\n",
       "      <td>Private</td>\n",
       "      <td>184454</td>\n",
       "      <td>HS-grad</td>\n",
       "      <td>9</td>\n",
       "      <td>Married-civ-spouse</td>\n",
       "      <td>Machine-op-inspct</td>\n",
       "      <td>Husband</td>\n",
       "      <td>White</td>\n",
       "      <td>Male</td>\n",
       "      <td>6418</td>\n",
       "      <td>0</td>\n",
       "      <td>40</td>\n",
       "      <td>United-States</td>\n",
       "      <td>&gt;50K</td>\n",
       "    </tr>\n",
       "    <tr>\n",
       "      <th>11</th>\n",
       "      <td>36</td>\n",
       "      <td>Federal-gov</td>\n",
       "      <td>212465</td>\n",
       "      <td>Bachelors</td>\n",
       "      <td>13</td>\n",
       "      <td>Married-civ-spouse</td>\n",
       "      <td>Adm-clerical</td>\n",
       "      <td>Husband</td>\n",
       "      <td>White</td>\n",
       "      <td>Male</td>\n",
       "      <td>0</td>\n",
       "      <td>0</td>\n",
       "      <td>40</td>\n",
       "      <td>United-States</td>\n",
       "      <td>&lt;=50K</td>\n",
       "    </tr>\n",
       "    <tr>\n",
       "      <th>12</th>\n",
       "      <td>26</td>\n",
       "      <td>Private</td>\n",
       "      <td>82091</td>\n",
       "      <td>HS-grad</td>\n",
       "      <td>9</td>\n",
       "      <td>Never-married</td>\n",
       "      <td>Adm-clerical</td>\n",
       "      <td>Not-in-family</td>\n",
       "      <td>White</td>\n",
       "      <td>Female</td>\n",
       "      <td>0</td>\n",
       "      <td>0</td>\n",
       "      <td>39</td>\n",
       "      <td>United-States</td>\n",
       "      <td>&lt;=50K</td>\n",
       "    </tr>\n",
       "    <tr>\n",
       "      <th>13</th>\n",
       "      <td>58</td>\n",
       "      <td>?</td>\n",
       "      <td>299831</td>\n",
       "      <td>HS-grad</td>\n",
       "      <td>9</td>\n",
       "      <td>Married-civ-spouse</td>\n",
       "      <td>?</td>\n",
       "      <td>Husband</td>\n",
       "      <td>White</td>\n",
       "      <td>Male</td>\n",
       "      <td>0</td>\n",
       "      <td>0</td>\n",
       "      <td>35</td>\n",
       "      <td>United-States</td>\n",
       "      <td>&lt;=50K</td>\n",
       "    </tr>\n",
       "    <tr>\n",
       "      <th>14</th>\n",
       "      <td>48</td>\n",
       "      <td>Private</td>\n",
       "      <td>279724</td>\n",
       "      <td>HS-grad</td>\n",
       "      <td>9</td>\n",
       "      <td>Married-civ-spouse</td>\n",
       "      <td>Machine-op-inspct</td>\n",
       "      <td>Husband</td>\n",
       "      <td>White</td>\n",
       "      <td>Male</td>\n",
       "      <td>3103</td>\n",
       "      <td>0</td>\n",
       "      <td>48</td>\n",
       "      <td>United-States</td>\n",
       "      <td>&gt;50K</td>\n",
       "    </tr>\n",
       "    <tr>\n",
       "      <th>15</th>\n",
       "      <td>43</td>\n",
       "      <td>Private</td>\n",
       "      <td>346189</td>\n",
       "      <td>Masters</td>\n",
       "      <td>14</td>\n",
       "      <td>Married-civ-spouse</td>\n",
       "      <td>Exec-managerial</td>\n",
       "      <td>Husband</td>\n",
       "      <td>White</td>\n",
       "      <td>Male</td>\n",
       "      <td>0</td>\n",
       "      <td>0</td>\n",
       "      <td>50</td>\n",
       "      <td>United-States</td>\n",
       "      <td>&gt;50K</td>\n",
       "    </tr>\n",
       "    <tr>\n",
       "      <th>16</th>\n",
       "      <td>20</td>\n",
       "      <td>State-gov</td>\n",
       "      <td>444554</td>\n",
       "      <td>Some-college</td>\n",
       "      <td>10</td>\n",
       "      <td>Never-married</td>\n",
       "      <td>Other-service</td>\n",
       "      <td>Own-child</td>\n",
       "      <td>White</td>\n",
       "      <td>Male</td>\n",
       "      <td>0</td>\n",
       "      <td>0</td>\n",
       "      <td>25</td>\n",
       "      <td>United-States</td>\n",
       "      <td>&lt;=50K</td>\n",
       "    </tr>\n",
       "    <tr>\n",
       "      <th>17</th>\n",
       "      <td>43</td>\n",
       "      <td>Private</td>\n",
       "      <td>128354</td>\n",
       "      <td>HS-grad</td>\n",
       "      <td>9</td>\n",
       "      <td>Married-civ-spouse</td>\n",
       "      <td>Adm-clerical</td>\n",
       "      <td>Wife</td>\n",
       "      <td>White</td>\n",
       "      <td>Female</td>\n",
       "      <td>0</td>\n",
       "      <td>0</td>\n",
       "      <td>30</td>\n",
       "      <td>United-States</td>\n",
       "      <td>&lt;=50K</td>\n",
       "    </tr>\n",
       "    <tr>\n",
       "      <th>18</th>\n",
       "      <td>37</td>\n",
       "      <td>Private</td>\n",
       "      <td>60548</td>\n",
       "      <td>HS-grad</td>\n",
       "      <td>9</td>\n",
       "      <td>Widowed</td>\n",
       "      <td>Machine-op-inspct</td>\n",
       "      <td>Unmarried</td>\n",
       "      <td>White</td>\n",
       "      <td>Female</td>\n",
       "      <td>0</td>\n",
       "      <td>0</td>\n",
       "      <td>20</td>\n",
       "      <td>United-States</td>\n",
       "      <td>&lt;=50K</td>\n",
       "    </tr>\n",
       "    <tr>\n",
       "      <th>19</th>\n",
       "      <td>40</td>\n",
       "      <td>Private</td>\n",
       "      <td>85019</td>\n",
       "      <td>Doctorate</td>\n",
       "      <td>16</td>\n",
       "      <td>Married-civ-spouse</td>\n",
       "      <td>Prof-specialty</td>\n",
       "      <td>Husband</td>\n",
       "      <td>Asian-Pac-Islander</td>\n",
       "      <td>Male</td>\n",
       "      <td>0</td>\n",
       "      <td>0</td>\n",
       "      <td>45</td>\n",
       "      <td>?</td>\n",
       "      <td>&gt;50K</td>\n",
       "    </tr>\n",
       "    <tr>\n",
       "      <th>20</th>\n",
       "      <td>34</td>\n",
       "      <td>Private</td>\n",
       "      <td>107914</td>\n",
       "      <td>Bachelors</td>\n",
       "      <td>13</td>\n",
       "      <td>Married-civ-spouse</td>\n",
       "      <td>Tech-support</td>\n",
       "      <td>Husband</td>\n",
       "      <td>White</td>\n",
       "      <td>Male</td>\n",
       "      <td>0</td>\n",
       "      <td>0</td>\n",
       "      <td>47</td>\n",
       "      <td>United-States</td>\n",
       "      <td>&gt;50K</td>\n",
       "    </tr>\n",
       "    <tr>\n",
       "      <th>21</th>\n",
       "      <td>34</td>\n",
       "      <td>Private</td>\n",
       "      <td>238588</td>\n",
       "      <td>Some-college</td>\n",
       "      <td>10</td>\n",
       "      <td>Never-married</td>\n",
       "      <td>Other-service</td>\n",
       "      <td>Own-child</td>\n",
       "      <td>Black</td>\n",
       "      <td>Female</td>\n",
       "      <td>0</td>\n",
       "      <td>0</td>\n",
       "      <td>35</td>\n",
       "      <td>United-States</td>\n",
       "      <td>&lt;=50K</td>\n",
       "    </tr>\n",
       "    <tr>\n",
       "      <th>22</th>\n",
       "      <td>72</td>\n",
       "      <td>?</td>\n",
       "      <td>132015</td>\n",
       "      <td>7th-8th</td>\n",
       "      <td>4</td>\n",
       "      <td>Divorced</td>\n",
       "      <td>?</td>\n",
       "      <td>Not-in-family</td>\n",
       "      <td>White</td>\n",
       "      <td>Female</td>\n",
       "      <td>0</td>\n",
       "      <td>0</td>\n",
       "      <td>6</td>\n",
       "      <td>United-States</td>\n",
       "      <td>&lt;=50K</td>\n",
       "    </tr>\n",
       "    <tr>\n",
       "      <th>23</th>\n",
       "      <td>25</td>\n",
       "      <td>Private</td>\n",
       "      <td>220931</td>\n",
       "      <td>Bachelors</td>\n",
       "      <td>13</td>\n",
       "      <td>Never-married</td>\n",
       "      <td>Prof-specialty</td>\n",
       "      <td>Not-in-family</td>\n",
       "      <td>White</td>\n",
       "      <td>Male</td>\n",
       "      <td>0</td>\n",
       "      <td>0</td>\n",
       "      <td>43</td>\n",
       "      <td>Peru</td>\n",
       "      <td>&lt;=50K</td>\n",
       "    </tr>\n",
       "    <tr>\n",
       "      <th>24</th>\n",
       "      <td>25</td>\n",
       "      <td>Private</td>\n",
       "      <td>205947</td>\n",
       "      <td>Bachelors</td>\n",
       "      <td>13</td>\n",
       "      <td>Married-civ-spouse</td>\n",
       "      <td>Prof-specialty</td>\n",
       "      <td>Husband</td>\n",
       "      <td>White</td>\n",
       "      <td>Male</td>\n",
       "      <td>0</td>\n",
       "      <td>0</td>\n",
       "      <td>40</td>\n",
       "      <td>United-States</td>\n",
       "      <td>&lt;=50K</td>\n",
       "    </tr>\n",
       "  </tbody>\n",
       "</table>\n",
       "</div>"
      ],
      "text/plain": [
       "    age         workclass  fnlwgt     education  educational-num  \\\n",
       "0    25           Private  226802          11th                7   \n",
       "1    38           Private   89814       HS-grad                9   \n",
       "2    28         Local-gov  336951    Assoc-acdm               12   \n",
       "3    44           Private  160323  Some-college               10   \n",
       "4    18                 ?  103497  Some-college               10   \n",
       "5    34           Private  198693          10th                6   \n",
       "6    29                 ?  227026       HS-grad                9   \n",
       "7    63  Self-emp-not-inc  104626   Prof-school               15   \n",
       "8    24           Private  369667  Some-college               10   \n",
       "9    55           Private  104996       7th-8th                4   \n",
       "10   65           Private  184454       HS-grad                9   \n",
       "11   36       Federal-gov  212465     Bachelors               13   \n",
       "12   26           Private   82091       HS-grad                9   \n",
       "13   58                 ?  299831       HS-grad                9   \n",
       "14   48           Private  279724       HS-grad                9   \n",
       "15   43           Private  346189       Masters               14   \n",
       "16   20         State-gov  444554  Some-college               10   \n",
       "17   43           Private  128354       HS-grad                9   \n",
       "18   37           Private   60548       HS-grad                9   \n",
       "19   40           Private   85019     Doctorate               16   \n",
       "20   34           Private  107914     Bachelors               13   \n",
       "21   34           Private  238588  Some-college               10   \n",
       "22   72                 ?  132015       7th-8th                4   \n",
       "23   25           Private  220931     Bachelors               13   \n",
       "24   25           Private  205947     Bachelors               13   \n",
       "\n",
       "        marital-status         occupation   relationship                race  \\\n",
       "0        Never-married  Machine-op-inspct      Own-child               Black   \n",
       "1   Married-civ-spouse    Farming-fishing        Husband               White   \n",
       "2   Married-civ-spouse    Protective-serv        Husband               White   \n",
       "3   Married-civ-spouse  Machine-op-inspct        Husband               Black   \n",
       "4        Never-married                  ?      Own-child               White   \n",
       "5        Never-married      Other-service  Not-in-family               White   \n",
       "6        Never-married                  ?      Unmarried               Black   \n",
       "7   Married-civ-spouse     Prof-specialty        Husband               White   \n",
       "8        Never-married      Other-service      Unmarried               White   \n",
       "9   Married-civ-spouse       Craft-repair        Husband               White   \n",
       "10  Married-civ-spouse  Machine-op-inspct        Husband               White   \n",
       "11  Married-civ-spouse       Adm-clerical        Husband               White   \n",
       "12       Never-married       Adm-clerical  Not-in-family               White   \n",
       "13  Married-civ-spouse                  ?        Husband               White   \n",
       "14  Married-civ-spouse  Machine-op-inspct        Husband               White   \n",
       "15  Married-civ-spouse    Exec-managerial        Husband               White   \n",
       "16       Never-married      Other-service      Own-child               White   \n",
       "17  Married-civ-spouse       Adm-clerical           Wife               White   \n",
       "18             Widowed  Machine-op-inspct      Unmarried               White   \n",
       "19  Married-civ-spouse     Prof-specialty        Husband  Asian-Pac-Islander   \n",
       "20  Married-civ-spouse       Tech-support        Husband               White   \n",
       "21       Never-married      Other-service      Own-child               Black   \n",
       "22            Divorced                  ?  Not-in-family               White   \n",
       "23       Never-married     Prof-specialty  Not-in-family               White   \n",
       "24  Married-civ-spouse     Prof-specialty        Husband               White   \n",
       "\n",
       "    gender  capital-gain  capital-loss  hours-per-week native-country income  \n",
       "0     Male             0             0              40  United-States  <=50K  \n",
       "1     Male             0             0              50  United-States  <=50K  \n",
       "2     Male             0             0              40  United-States   >50K  \n",
       "3     Male          7688             0              40  United-States   >50K  \n",
       "4   Female             0             0              30  United-States  <=50K  \n",
       "5     Male             0             0              30  United-States  <=50K  \n",
       "6     Male             0             0              40  United-States  <=50K  \n",
       "7     Male          3103             0              32  United-States   >50K  \n",
       "8   Female             0             0              40  United-States  <=50K  \n",
       "9     Male             0             0              10  United-States  <=50K  \n",
       "10    Male          6418             0              40  United-States   >50K  \n",
       "11    Male             0             0              40  United-States  <=50K  \n",
       "12  Female             0             0              39  United-States  <=50K  \n",
       "13    Male             0             0              35  United-States  <=50K  \n",
       "14    Male          3103             0              48  United-States   >50K  \n",
       "15    Male             0             0              50  United-States   >50K  \n",
       "16    Male             0             0              25  United-States  <=50K  \n",
       "17  Female             0             0              30  United-States  <=50K  \n",
       "18  Female             0             0              20  United-States  <=50K  \n",
       "19    Male             0             0              45              ?   >50K  \n",
       "20    Male             0             0              47  United-States   >50K  \n",
       "21  Female             0             0              35  United-States  <=50K  \n",
       "22  Female             0             0               6  United-States  <=50K  \n",
       "23    Male             0             0              43           Peru  <=50K  \n",
       "24    Male             0             0              40  United-States  <=50K  "
      ]
     },
     "execution_count": 127,
     "metadata": {},
     "output_type": "execute_result"
    }
   ],
   "source": [
    "data.head(25)"
   ]
  },
  {
   "cell_type": "markdown",
   "metadata": {},
   "source": [
    "**Before we can begin exploring the data, it needs to be cleaned up a little bit. There are no NaN values, but it seems that is because NaN values are represented as '?'. Will replace with the mode (most frequent value) in each column.**"
   ]
  },
  {
   "cell_type": "code",
   "execution_count": 170,
   "metadata": {},
   "outputs": [],
   "source": [
    "#Replacing all '?' values with the mode\n",
    "attrib, counts = np.unique(data['workclass'], return_counts = True)\n",
    "most_freq_attrib = attrib[np.argmax(counts, axis = 0)]\n",
    "data['workclass'][data['workclass'] == '?'] = most_freq_attrib \n",
    "\n",
    "attrib, counts = np.unique(data['occupation'], return_counts = True)\n",
    "most_freq_attrib = attrib[np.argmax(counts, axis = 0)]\n",
    "data['occupation'][data['occupation'] == '?'] = most_freq_attrib \n",
    "\n",
    "attrib, counts = np.unique(data['native-country'], return_counts = True)\n",
    "most_freq_attrib = attrib[np.argmax(counts, axis = 0)]\n",
    "data['native-country'][data['native-country'] == '?'] = most_freq_attrib "
   ]
  },
  {
   "cell_type": "markdown",
   "metadata": {},
   "source": [
    "___"
   ]
  },
  {
   "cell_type": "markdown",
   "metadata": {},
   "source": [
    "# Average Hours Worked Per Week\n",
    "\n",
    "**In the United States the average work week is about 40 hours/week, what other trends can we uncover about this well known statistic?**"
   ]
  },
  {
   "cell_type": "code",
   "execution_count": 171,
   "metadata": {
    "scrolled": false
   },
   "outputs": [
    {
     "data": {
      "text/plain": [
       "Text(0.5, 1.0, 'Total Average Hours/Week')"
      ]
     },
     "execution_count": 171,
     "metadata": {},
     "output_type": "execute_result"
    },
    {
     "data": {
      "image/png": "[encoded data removed]",
      "text/plain": [
       "<Figure size 936x648 with 1 Axes>"
      ]
     },
     "metadata": {
      "needs_background": "light"
     },
     "output_type": "display_data"
    }
   ],
   "source": [
    "data['hours-per-week'].hist(figsize = (13,9))\n",
    "plt.axvline(data['hours-per-week'].mean(), color='r', linestyle='dashed', linewidth=3)\n",
    "min_ylim, max_ylim = plt.ylim()\n",
    "plt.text(data['hours-per-week'].mean()*1.039, max_ylim*.45, 'Mean hours/week:\\n {:.2f}'.format(data['hours-per-week'].mean()))\n",
    "plt.xlabel('Hours per Week')\n",
    "plt.ylabel('Count')\n",
    "plt.title('Total Average Hours/Week')"
   ]
  },
  {
   "cell_type": "markdown",
   "metadata": {},
   "source": [
    "___ "
   ]
  },
  {
   "cell_type": "markdown",
   "metadata": {},
   "source": [
    "# Who works the most hours per week? "
   ]
  },
  {
   "cell_type": "markdown",
   "metadata": {},
   "source": [
    "_For this question I will pick 60 hours/week as a baseline for an above average work week._\n",
    "\n"
   ]
  },
  {
   "cell_type": "markdown",
   "metadata": {},
   "source": [
    "### 85% of the people who work over 60 hours a week are male, while 15% are female.\n",
    "\n",
    "_What factors could be the cause of such a disparity? How would this number change if traditionally female roles (such as staying at home and raising children) were included as hours worked per week?_"
   ]
  },
  {
   "cell_type": "code",
   "execution_count": 151,
   "metadata": {
    "scrolled": false
   },
   "outputs": [
    {
     "data": {
      "image/png": "[encoded data removed]",
      "text/plain": [
       "<Figure size 216x648 with 1 Axes>"
      ]
     },
     "metadata": {
      "needs_background": "light"
     },
     "output_type": "display_data"
    }
   ],
   "source": [
    "over_60['gender'].hist(figsize = (3,9))\n",
    "plt.title('Gender/60+ Hour Workweek')\n",
    "plt.show()"
   ]
  },
  {
   "cell_type": "code",
   "execution_count": 172,
   "metadata": {},
   "outputs": [
    {
     "data": {
      "text/plain": [
       "Male      84.842979\n",
       "Female    15.157021\n",
       "Name: gender, dtype: float64"
      ]
     },
     "execution_count": 172,
     "metadata": {},
     "output_type": "execute_result"
    }
   ],
   "source": [
    "over_60['gender'].value_counts(normalize=True) * 100"
   ]
  },
  {
   "cell_type": "markdown",
   "metadata": {},
   "source": [
    "### Roughly 60% of the people who work over 60 hours/week make less than 50,000/year.\n",
    "\n",
    "\n",
    "_This is odd, one might assume that people who work more hours would have a higher income._"
   ]
  },
  {
   "cell_type": "code",
   "execution_count": 173,
   "metadata": {},
   "outputs": [
    {
     "data": {
      "image/png": "[encoded data removed]",
      "text/plain": [
       "<Figure size 216x648 with 1 Axes>"
      ]
     },
     "metadata": {
      "needs_background": "light"
     },
     "output_type": "display_data"
    }
   ],
   "source": [
    "over_60 = data.loc[data['hours-per-week'] >= 60]\n",
    "\n",
    "over_60['income'].hist(figsize = (3,9))\n",
    "plt.title('Income/60+ Hour Workweek')\n",
    "plt.show()"
   ]
  },
  {
   "cell_type": "code",
   "execution_count": 175,
   "metadata": {
    "scrolled": true
   },
   "outputs": [
    {
     "data": {
      "text/plain": [
       "<=50K    59.693745\n",
       ">50K     40.306255\n",
       "Name: income, dtype: float64"
      ]
     },
     "execution_count": 175,
     "metadata": {},
     "output_type": "execute_result"
    }
   ],
   "source": [
    "#Determining the percentage of people who make more or less than 50,000/year in the 60 hour-work-week dataset\n",
    "over_60['income'].value_counts(normalize = True) * 100"
   ]
  },
  {
   "cell_type": "markdown",
   "metadata": {},
   "source": [
    "___"
   ]
  },
  {
   "cell_type": "markdown",
   "metadata": {},
   "source": [
    "# How does education level affect the amount of hours worked in a week?"
   ]
  },
  {
   "cell_type": "markdown",
   "metadata": {},
   "source": [
    "### The data suggests that people with a higher education tend to work more hours each week."
   ]
  },
  {
   "cell_type": "markdown",
   "metadata": {},
   "source": [
    "_**The average high school graduate works about 40.5 hours a week.**_"
   ]
  },
  {
   "cell_type": "code",
   "execution_count": 108,
   "metadata": {
    "scrolled": false
   },
   "outputs": [
    {
     "data": {
      "text/plain": [
       "Text(0.5, 1.0, 'High School - Hours/Week')"
      ]
     },
     "execution_count": 108,
     "metadata": {},
     "output_type": "execute_result"
    },
    {
     "data": {
      "image/png": "[encoded data removed]",
      "text/plain": [
       "<Figure size 936x648 with 1 Axes>"
      ]
     },
     "metadata": {
      "needs_background": "light"
     },
     "output_type": "display_data"
    }
   ],
   "source": [
    "high_school = data.loc[data['education'] == 'HS-grad']\n",
    "\n",
    "high_school['hours-per-week'].hist(figsize = (13,9))\n",
    "plt.axvline(data['hours-per-week'].mean(), color='r', linestyle='dashed', linewidth=3)\n",
    "min_ylim, max_ylim = plt.ylim()\n",
    "plt.text(high_school['hours-per-week'].mean()*1.039, max_ylim*.45, 'Mean hours/week:\\n {:.2f}'.format(high_school['hours-per-week'].mean()))\n",
    "plt.xlabel('Hours per Week')\n",
    "plt.ylabel('Count')\n",
    "plt.title('High School - Hours/Week')"
   ]
  },
  {
   "cell_type": "markdown",
   "metadata": {},
   "source": [
    "_**The average bachelors degree graduate works about 42.5 hours a week.**_"
   ]
  },
  {
   "cell_type": "code",
   "execution_count": 109,
   "metadata": {},
   "outputs": [
    {
     "data": {
      "text/plain": [
       "Text(0.5, 1.0, 'Bachelors - Hours/week')"
      ]
     },
     "execution_count": 109,
     "metadata": {},
     "output_type": "execute_result"
    },
    {
     "data": {
      "image/png": "[encoded data removed]",
      "text/plain": [
       "<Figure size 936x648 with 1 Axes>"
      ]
     },
     "metadata": {
      "needs_background": "light"
     },
     "output_type": "display_data"
    }
   ],
   "source": [
    "bachelors = data.loc[data['education'] == 'Bachelors']\n",
    "\n",
    "bachelors['hours-per-week'].hist(figsize = (13,9))\n",
    "plt.axvline(bachelors['hours-per-week'].mean(), color='r', linestyle='dashed', linewidth=3)\n",
    "min_ylim, max_ylim = plt.ylim()\n",
    "plt.text(bachelors['hours-per-week'].mean()*1.039, max_ylim*.45, 'Mean hours/week:\\n {:.2f}'.format(bachelors['hours-per-week'].mean()))\n",
    "plt.xlabel('Hours per Week')\n",
    "plt.ylabel('Count')\n",
    "plt.title('Bachelors - Hours/week')"
   ]
  },
  {
   "cell_type": "markdown",
   "metadata": {},
   "source": [
    "_**The average masters graduate works about 43.5 hours a week.**_"
   ]
  },
  {
   "cell_type": "code",
   "execution_count": 116,
   "metadata": {
    "scrolled": false
   },
   "outputs": [
    {
     "data": {
      "text/plain": [
       "Text(0.5, 1.0, 'Masters - Hours/week')"
      ]
     },
     "execution_count": 116,
     "metadata": {},
     "output_type": "execute_result"
    },
    {
     "data": {
      "image/png": "[encoded data removed]",
      "text/plain": [
       "<Figure size 936x648 with 1 Axes>"
      ]
     },
     "metadata": {
      "needs_background": "light"
     },
     "output_type": "display_data"
    }
   ],
   "source": [
    "masters = data.loc[data['education'] == 'Masters']\n",
    "\n",
    "masters['hours-per-week'].hist(figsize = (13,9))\n",
    "plt.axvline(masters['hours-per-week'].mean(), color='r', linestyle='dashed', linewidth=3)\n",
    "min_ylim, max_ylim = plt.ylim()\n",
    "plt.text(masters['hours-per-week'].mean()*1.039, max_ylim*.45, 'Mean hours/week:\\n {:.2f}'.format(masters['hours-per-week'].mean()))\n",
    "plt.xlabel('Hours per Week')\n",
    "plt.ylabel('Count')\n",
    "plt.title('Masters - Hours/week')"
   ]
  },
  {
   "cell_type": "markdown",
   "metadata": {},
   "source": [
    "_**The average high school graduate works about 46.58 hours a week.**_"
   ]
  },
  {
   "cell_type": "code",
   "execution_count": 115,
   "metadata": {
    "scrolled": false
   },
   "outputs": [
    {
     "data": {
      "text/plain": [
       "Text(0.5, 1.0, 'Doctorate - Hours/week')"
      ]
     },
     "execution_count": 115,
     "metadata": {},
     "output_type": "execute_result"
    },
    {
     "data": {
      "image/png": "[encoded data removed]",
      "text/plain": [
       "<Figure size 936x648 with 1 Axes>"
      ]
     },
     "metadata": {
      "needs_background": "light"
     },
     "output_type": "display_data"
    }
   ],
   "source": [
    "doctorate = data.loc[data['education'] == 'Doctorate']\n",
    "\n",
    "doctorate['hours-per-week'].hist(figsize = (13,9))\n",
    "plt.axvline(doctorate['hours-per-week'].mean(), color='r', linestyle='dashed', linewidth=3)\n",
    "min_ylim, max_ylim = plt.ylim()\n",
    "plt.text(doctorate['hours-per-week'].mean()*1.039, max_ylim*.75, 'Mean hours/week:\\n {:.2f}'.format(doctorate['hours-per-week'].mean()))\n",
    "plt.xlabel('Hours per Week')\n",
    "plt.ylabel('Count')\n",
    "plt.title('Doctorate - Hours/week')"
   ]
  },
  {
   "cell_type": "markdown",
   "metadata": {},
   "source": [
    "**Overall there are a few statistics that are quite interesting that would be great to investigate further with more data.**"
   ]
  },
  {
   "cell_type": "code",
   "execution_count": null,
   "metadata": {},
   "outputs": [],
   "source": []
  }
 ],
 "metadata": {
  "kernelspec": {
   "display_name": "Python 3",
   "language": "python",
   "name": "python3"
  },
  "language_info": {
   "codemirror_mode": {
    "name": "ipython",
    "version": 3
   },
   "file_extension": ".py",
   "mimetype": "text/x-python",
   "name": "python",
   "nbconvert_exporter": "python",
   "pygments_lexer": "ipython3",
   "version": "3.8.5"
  }
 },
 "nbformat": 4,
 "nbformat_minor": 4
}
