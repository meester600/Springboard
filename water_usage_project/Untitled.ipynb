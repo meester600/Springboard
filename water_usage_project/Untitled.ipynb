{
 "cells": [
  {
   "cell_type": "code",
   "execution_count": 4,
   "metadata": {},
   "outputs": [],
   "source": [
    "import pandas as pd\n",
    "import numpy as np\n",
    "import json"
   ]
  },
  {
   "cell_type": "code",
   "execution_count": 12,
   "metadata": {},
   "outputs": [
    {
     "data": {
      "text/plain": [
       "{'link': {'rel': 'self',\n",
       "  'url': 'https://www.sciencebase.gov/catalog/item/584f00cee4b0260a373819db'},\n",
       " 'relatedItems': {'link': {'url': 'https://www.sciencebase.gov/catalog/itemLinks?itemId=584f00cee4b0260a373819db',\n",
       "   'rel': 'related'}},\n",
       " 'id': '584f00cee4b0260a373819db',\n",
       " 'title': 'Historical Water Use Data with Metadata',\n",
       " 'summary': 'The data attached to this item were transcribed from reports available here: https://water.usgs.gov/watuse/50years.html See metadata available for each compilation year contained within the attached zip file for more information.',\n",
       " 'body': 'The data attached to this item were transcribed from reports available here:&nbsp;https://water.usgs.gov/watuse/50years.html See metadata available for each compilation year contained within the attached zip file for more information.',\n",
       " 'provenance': {'dataSource': 'Input directly',\n",
       "  'dateCreated': '2016-12-12T19:55:58Z',\n",
       "  'lastUpdated': '2017-05-01T12:16:18Z'},\n",
       " 'hasChildren': False,\n",
       " 'parentId': '571e3bd7e4b071321fe566e5',\n",
       " 'webLinks': [{'type': 'webLink',\n",
       "   'typeLabel': 'Web Link',\n",
       "   'uri': 'https://water.usgs.gov/watuse/50years.html',\n",
       "   'rel': 'related',\n",
       "   'title': 'Compilation reports.',\n",
       "   'hidden': False},\n",
       "  {'type': 'webLink',\n",
       "   'typeLabel': 'Web Link',\n",
       "   'uri': 'https://owi.usgs.gov/vizlab/water-use/',\n",
       "   'rel': 'related',\n",
       "   'title': 'Visualization that uses the attached data.',\n",
       "   'hidden': False}],\n",
       " 'files': [{'cuid': None,\n",
       "   'key': None,\n",
       "   'bucket': None,\n",
       "   'published': None,\n",
       "   'node': None,\n",
       "   'name': 'Export.1950-1980-United-States-Compilation-metadata.zip',\n",
       "   'title': '',\n",
       "   'contentType': 'application/zip',\n",
       "   'contentEncoding': None,\n",
       "   'pathOnDisk': '__disk__dd/ec/85/ddec85643866b5ee65955e2fc2dbebf21a49adae',\n",
       "   'processed': False,\n",
       "   'processToken': None,\n",
       "   'imageWidth': None,\n",
       "   'imageHeight': None,\n",
       "   'size': 373556,\n",
       "   'dateUploaded': '2016-12-12T19:55:32Z',\n",
       "   'originalMetadata': False,\n",
       "   'useForPreview': False,\n",
       "   'movedToS3': None,\n",
       "   's3Object': None,\n",
       "   'checksum': {'value': '10ea6fff7483067626d86a798b7a9c4d', 'type': 'MD5'},\n",
       "   'url': 'https://www.sciencebase.gov/catalog/file/get/584f00cee4b0260a373819db?f=__disk__dd%2Fec%2F85%2Fddec85643866b5ee65955e2fc2dbebf21a49adae',\n",
       "   'downloadUri': 'https://www.sciencebase.gov/catalog/file/get/584f00cee4b0260a373819db?f=__disk__dd%2Fec%2F85%2Fddec85643866b5ee65955e2fc2dbebf21a49adae'}],\n",
       " 'distributionLinks': [{'uri': 'https://www.sciencebase.gov/catalog/file/get/584f00cee4b0260a373819db',\n",
       "   'title': 'Download Attached Files',\n",
       "   'type': 'downloadLink',\n",
       "   'typeLabel': 'Download Link',\n",
       "   'rel': 'alternate',\n",
       "   'name': 'HistoricalWater.zip',\n",
       "   'files': [{'name': 'Export.1950-1980-United-States-Compilation-metadata.zip',\n",
       "     'title': '',\n",
       "     'contentType': 'application/zip',\n",
       "     'size': 373556}]}]}"
      ]
     },
     "execution_count": 12,
     "metadata": {},
     "output_type": "execute_result"
    }
   ],
   "source": [
    "file = open('1950_1985.json')\n",
    "json.load(file)"
   ]
  },
  {
   "cell_type": "code",
   "execution_count": null,
   "metadata": {},
   "outputs": [],
   "source": []
  }
 ],
 "metadata": {
  "kernelspec": {
   "display_name": "Python 3",
   "language": "python",
   "name": "python3"
  },
  "language_info": {
   "codemirror_mode": {
    "name": "ipython",
    "version": 3
   },
   "file_extension": ".py",
   "mimetype": "text/x-python",
   "name": "python",
   "nbconvert_exporter": "python",
   "pygments_lexer": "ipython3",
   "version": "3.8.5"
  }
 },
 "nbformat": 4,
 "nbformat_minor": 4
}
